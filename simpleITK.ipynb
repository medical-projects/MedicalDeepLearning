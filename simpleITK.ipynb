{
  "nbformat": 4,
  "nbformat_minor": 0,
  "metadata": {
    "colab": {
      "name": "simpleITK.ipynb",
      "provenance": [],
      "include_colab_link": true
    },
    "kernelspec": {
      "name": "python3",
      "display_name": "Python 3"
    }
  },
  "cells": [
    {
      "cell_type": "markdown",
      "metadata": {
        "id": "view-in-github",
        "colab_type": "text"
      },
      "source": [
        "<a href=\"https://colab.research.google.com/github/ozgurshn/MedicalDeepLearning/blob/master/simpleITK.ipynb\" target=\"_parent\"><img src=\"https://colab.research.google.com/assets/colab-badge.svg\" alt=\"Open In Colab\"/></a>"
      ]
    },
    {
      "cell_type": "code",
      "metadata": {
        "id": "IIwrQVHB1VXK",
        "colab_type": "code",
        "colab": {
          "base_uri": "https://localhost:8080/",
          "height": 122
        },
        "outputId": "f47b8a4b-955c-482b-df3c-2a4af3a09824"
      },
      "source": [
        "!pip install simpleitk"
      ],
      "execution_count": 1,
      "outputs": [
        {
          "output_type": "stream",
          "text": [
            "Collecting simpleitk\n",
            "\u001b[?25l  Downloading https://files.pythonhosted.org/packages/f8/d8/53338c34f71020725ffb3557846c80af96c29c03bc883551a2565aa68a7c/SimpleITK-1.2.4-cp36-cp36m-manylinux1_x86_64.whl (42.5MB)\n",
            "\u001b[K     |████████████████████████████████| 42.5MB 54kB/s \n",
            "\u001b[?25hInstalling collected packages: simpleitk\n",
            "Successfully installed simpleitk-1.2.4\n"
          ],
          "name": "stdout"
        }
      ]
    },
    {
      "cell_type": "code",
      "metadata": {
        "id": "FNI_qLMn756W",
        "colab_type": "code",
        "colab": {
          "base_uri": "https://localhost:8080/",
          "height": 139
        },
        "outputId": "63b6bad6-da1b-4743-8462-40248e3137d5"
      },
      "source": [
        "from google.colab import drive\n",
        "drive.mount('/gdrive')\n",
        "%cd /gdrive"
      ],
      "execution_count": 2,
      "outputs": [
        {
          "output_type": "stream",
          "text": [
            "Go to this URL in a browser: https://accounts.google.com/o/oauth2/auth?client_id=947318989803-6bn6qk8qdgf4n4g3pfee6491hc0brc4i.apps.googleusercontent.com&redirect_uri=urn%3aietf%3awg%3aoauth%3a2.0%3aoob&response_type=code&scope=email%20https%3a%2f%2fwww.googleapis.com%2fauth%2fdocs.test%20https%3a%2f%2fwww.googleapis.com%2fauth%2fdrive%20https%3a%2f%2fwww.googleapis.com%2fauth%2fdrive.photos.readonly%20https%3a%2f%2fwww.googleapis.com%2fauth%2fpeopleapi.readonly\n",
            "\n",
            "Enter your authorization code:\n",
            "··········\n",
            "Mounted at /gdrive\n",
            "/gdrive\n"
          ],
          "name": "stdout"
        }
      ]
    },
    {
      "cell_type": "code",
      "metadata": {
        "id": "qMHrK4hL8Jln",
        "colab_type": "code",
        "colab": {
          "base_uri": "https://localhost:8080/",
          "height": 34
        },
        "outputId": "fee38fba-489b-422c-b281-b6f0e5e50856"
      },
      "source": [
        "!ls '/gdrive/My Drive/itk/'\n"
      ],
      "execution_count": 5,
      "outputs": [
        {
          "output_type": "stream",
          "text": [
            "unnamed.png\n"
          ],
          "name": "stdout"
        }
      ]
    },
    {
      "cell_type": "code",
      "metadata": {
        "id": "BYhoVnSc9UE6",
        "colab_type": "code",
        "colab": {
          "base_uri": "https://localhost:8080/",
          "height": 51
        },
        "outputId": "9ed5a439-1f25-4dae-9e88-cee316bed85a"
      },
      "source": [
        "path = '/gdrive/My Drive/itk/unnamed.png'\n",
        "print(image.GetPixelID())\n",
        "print(sitk.GetPixelIDValueAsString(image.GetPixelID()))\n"
      ],
      "execution_count": 103,
      "outputs": [
        {
          "output_type": "stream",
          "text": [
            "13\n",
            "vector of 8-bit unsigned integer\n"
          ],
          "name": "stdout"
        }
      ]
    },
    {
      "cell_type": "code",
      "metadata": {
        "id": "Ezsv-5vZ2THT",
        "colab_type": "code",
        "colab": {}
      },
      "source": [
        "##n4 bias field correction\n",
        "\n",
        "import SimpleITK as sitk\n",
        "import sys\n",
        "import os\n",
        "import matplotlib.pyplot as plt\n",
        "\n",
        "inputImage = sitk.ReadImage('/gdrive/My Drive/itk/unnamed.png',sitk.sitkUInt8)\n",
        "\n",
        "maskImage = sitk.OtsuThreshold( inputImage, 0, 1, 200 )\n",
        "\n",
        "inputImage = sitk.Cast( inputImage, sitk.sitkFloat32 )\n",
        "\n",
        "corrector = sitk.N4BiasFieldCorrectionImageFilter();\n",
        "\n",
        "numberFittingLevels = 4\n",
        "\n",
        "output = corrector.Execute( inputImage, maskImage )\n",
        "\n",
        "outputCasted = sitk.Cast(output,sitk.sitkVectorUInt8)\n",
        "\n",
        "sitk.WriteImage( outputCasted, '/gdrive/My Drive/itk/output.png' )\n",
        "\n",
        "\n"
      ],
      "execution_count": 0,
      "outputs": []
    },
    {
      "cell_type": "code",
      "metadata": {
        "id": "8mHcLbJwOoK9",
        "colab_type": "code",
        "colab": {
          "base_uri": "https://localhost:8080/",
          "height": 269
        },
        "outputId": "59b6c201-ea22-4170-caa6-1351f9e6cdcc"
      },
      "source": [
        "npa = sitk.GetArrayViewFromImage(outputCasted)\n",
        "\n",
        "plt.imshow(npa, cmap='Greys',  interpolation='nearest')\n",
        "\n",
        "plt.show()\n"
      ],
      "execution_count": 100,
      "outputs": [
        {
          "output_type": "display_data",
          "data": {
            "image/png": "[encoded data removed]",
            "text/plain": [
              "<Figure size 432x288 with 1 Axes>"
            ]
          },
          "metadata": {
            "tags": []
          }
        }
      ]
    }
  ]
}